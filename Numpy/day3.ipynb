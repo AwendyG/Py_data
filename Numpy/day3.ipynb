{
 "cells": [
  {
   "cell_type": "code",
   "execution_count": 2,
   "id": "3fde8642",
   "metadata": {},
   "outputs": [],
   "source": [
    "import numpy as np"
   ]
  },
  {
   "cell_type": "code",
   "execution_count": 3,
   "id": "75959c8f",
   "metadata": {},
   "outputs": [],
   "source": [
    "x = np.array([1,2,3,4,5])"
   ]
  },
  {
   "cell_type": "code",
   "execution_count": 4,
   "id": "840c17e2",
   "metadata": {},
   "outputs": [
    {
     "data": {
      "text/plain": [
       "array([1, 2, 3, 4, 5])"
      ]
     },
     "execution_count": 4,
     "metadata": {},
     "output_type": "execute_result"
    }
   ],
   "source": [
    "#sorting arrays\n",
    "np.sort(x)"
   ]
  },
  {
   "cell_type": "code",
   "execution_count": 5,
   "id": "10c48481",
   "metadata": {},
   "outputs": [],
   "source": [
    "a = np.array([[34,12,11],[56,78,32],[3,6,8]])"
   ]
  },
  {
   "cell_type": "code",
   "execution_count": 6,
   "id": "173e2524",
   "metadata": {},
   "outputs": [
    {
     "data": {
      "text/plain": [
       "array([[11, 12, 34],\n",
       "       [32, 56, 78],\n",
       "       [ 3,  6,  8]])"
      ]
     },
     "execution_count": 6,
     "metadata": {},
     "output_type": "execute_result"
    }
   ],
   "source": [
    "#sorts rowise\n",
    "np.sort(a,axis=-1)"
   ]
  },
  {
   "cell_type": "code",
   "execution_count": null,
   "id": "4c37d9ac",
   "metadata": {},
   "outputs": [],
   "source": [
    "#sorts columnwise\n",
    "np.sort(a,axis=0)\n"
   ]
  },
  {
   "cell_type": "code",
   "execution_count": null,
   "id": "682951ed",
   "metadata": {},
   "outputs": [],
   "source": [
    "np.sort(a,axis=None)"
   ]
  },
  {
   "cell_type": "code",
   "execution_count": null,
   "id": "345e0e62",
   "metadata": {},
   "outputs": [],
   "source": [
    "#in descending order\n",
    "np.sort(a,axis=-1)[::-1]"
   ]
  },
  {
   "cell_type": "markdown",
   "id": "144237ea",
   "metadata": {},
   "source": [
    "Argsort\n",
    "- Gives the indices of the elements in the original arrays"
   ]
  },
  {
   "cell_type": "code",
   "execution_count": null,
   "id": "ba5079e7",
   "metadata": {},
   "outputs": [],
   "source": [
    "x = np.array([1,4,3,5,6])"
   ]
  },
  {
   "cell_type": "code",
   "execution_count": null,
   "id": "96e6018b",
   "metadata": {},
   "outputs": [],
   "source": [
    "np.sort(x)"
   ]
  },
  {
   "cell_type": "code",
   "execution_count": null,
   "id": "09fbaac7",
   "metadata": {},
   "outputs": [],
   "source": [
    "np.argsort(x)"
   ]
  },
  {
   "cell_type": "markdown",
   "id": "d2c85dd5",
   "metadata": {},
   "source": [
    "Partition"
   ]
  },
  {
   "cell_type": "code",
   "execution_count": null,
   "id": "c8b7170a",
   "metadata": {},
   "outputs": [],
   "source": [
    "arr = np.array([3,7,9,5,2,1,8,13,11])"
   ]
  },
  {
   "cell_type": "code",
   "execution_count": null,
   "id": "e573ce50",
   "metadata": {},
   "outputs": [],
   "source": [
    "# 3 smallest elements in an array\n",
    "np.partition(arr,4)"
   ]
  },
  {
   "cell_type": "code",
   "execution_count": null,
   "id": "4a00f56d",
   "metadata": {},
   "outputs": [],
   "source": [
    "#slice to the position that is wanted.\n"
   ]
  },
  {
   "cell_type": "code",
   "execution_count": null,
   "id": "aab69c2d",
   "metadata": {},
   "outputs": [],
   "source": [
    "arr2 = array([2,5,7,8,9,5,4,7.4])\n",
    "np.sort(arr2)"
   ]
  },
  {
   "cell_type": "code",
   "execution_count": null,
   "id": "3ba5581f",
   "metadata": {},
   "outputs": [],
   "source": [
    "#when we partition an array and add a tuple, we are asking that elements in the indeces specified in the tuples be the same after the partition.\n",
    "np.partition(arr2,(3,5))"
   ]
  },
  {
   "cell_type": "markdown",
   "id": "7ce95266",
   "metadata": {},
   "source": [
    "Partitioning along a specific axis."
   ]
  },
  {
   "cell_type": "markdown",
   "id": "02a94d5a",
   "metadata": {},
   "source": [
    "Basic Math operations."
   ]
  },
  {
   "cell_type": "code",
   "execution_count": null,
   "id": "6367b36d",
   "metadata": {},
   "outputs": [],
   "source": [
    "arr1 = np.random.rand(10)\n",
    "arr2 = np.random.rand(10)"
   ]
  },
  {
   "cell_type": "markdown",
   "id": "97c19fce",
   "metadata": {},
   "source": [
    "#To add\n",
    "np.add(arr1,arr2)"
   ]
  },
  {
   "cell_type": "code",
   "execution_count": null,
   "id": "5594dbb1",
   "metadata": {},
   "outputs": [],
   "source": [
    "np.subtract"
   ]
  },
  {
   "cell_type": "code",
   "execution_count": null,
   "id": "3193b35c",
   "metadata": {},
   "outputs": [],
   "source": [
    "np.divide"
   ]
  },
  {
   "cell_type": "code",
   "execution_count": null,
   "id": "fc2f591b",
   "metadata": {},
   "outputs": [],
   "source": [
    "np.multiply"
   ]
  },
  {
   "cell_type": "code",
   "execution_count": null,
   "id": "abfd7353",
   "metadata": {},
   "outputs": [],
   "source": [
    "np.sqrt"
   ]
  },
  {
   "cell_type": "code",
   "execution_count": null,
   "id": "a78c5bfa",
   "metadata": {},
   "outputs": [],
   "source": [
    "np.floor\n",
    "np.ceiling"
   ]
  },
  {
   "cell_type": "code",
   "execution_count": null,
   "id": "9ef21102",
   "metadata": {},
   "outputs": [],
   "source": [
    "np.abs"
   ]
  },
  {
   "cell_type": "markdown",
   "id": "aa7fa67b",
   "metadata": {},
   "source": [
    "Accessing elwments within an array"
   ]
  }
 ],
 "metadata": {
  "kernelspec": {
   "display_name": "stone",
   "language": "python",
   "name": "python3"
  },
  "language_info": {
   "codemirror_mode": {
    "name": "ipython",
    "version": 3
   },
   "file_extension": ".py",
   "mimetype": "text/x-python",
   "name": "python",
   "nbconvert_exporter": "python",
   "pygments_lexer": "ipython3",
   "version": "3.13.5"
  }
 },
 "nbformat": 4,
 "nbformat_minor": 5
}
