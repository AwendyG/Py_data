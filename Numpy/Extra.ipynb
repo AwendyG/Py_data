{
 "cells": [
  {
   "cell_type": "markdown",
   "id": "2403cebd",
   "metadata": {},
   "source": [
    "Learning Numpy and doing some exercises on it. "
   ]
  },
  {
   "cell_type": "code",
   "execution_count": 2,
   "id": "144d06a4",
   "metadata": {},
   "outputs": [],
   "source": [
    "import numpy as np"
   ]
  },
  {
   "cell_type": "code",
   "execution_count": 3,
   "id": "a6829747",
   "metadata": {},
   "outputs": [
    {
     "data": {
      "text/plain": [
       "array([0, 1, 2, 3, 4, 5, 6, 7])"
      ]
     },
     "execution_count": 3,
     "metadata": {},
     "output_type": "execute_result"
    }
   ],
   "source": [
    "np.array([0,1,2,3,4,5,6,7])"
   ]
  },
  {
   "cell_type": "code",
   "execution_count": 5,
   "id": "c06f8752",
   "metadata": {},
   "outputs": [
    {
     "data": {
      "text/plain": [
       "array([0. , 1.2, 3.4, 5. , 6. , 7. ], dtype=float32)"
      ]
     },
     "execution_count": 5,
     "metadata": {},
     "output_type": "execute_result"
    }
   ],
   "source": [
    "np.array([0,1.2,3.4,5.,6,7], dtype='float32')"
   ]
  },
  {
   "cell_type": "code",
   "execution_count": 6,
   "id": "ac9d487a",
   "metadata": {},
   "outputs": [
    {
     "data": {
      "text/plain": [
       "array([[2, 3, 4],\n",
       "       [4, 5, 6],\n",
       "       [6, 7, 8]])"
      ]
     },
     "execution_count": 6,
     "metadata": {},
     "output_type": "execute_result"
    }
   ],
   "source": [
    "np.array([range(i,i+3)for i in [2,4,6]])"
   ]
  },
  {
   "cell_type": "code",
   "execution_count": 7,
   "id": "0e24a865",
   "metadata": {},
   "outputs": [
    {
     "data": {
      "text/plain": [
       "array([0, 0, 0, 0, 0, 0, 0, 0, 0, 0])"
      ]
     },
     "execution_count": 7,
     "metadata": {},
     "output_type": "execute_result"
    }
   ],
   "source": [
    "#a 10 length array filled with zeros\n",
    "np.zeros(10,dtype=int)"
   ]
  },
  {
   "cell_type": "code",
   "execution_count": 8,
   "id": "653d3f8a",
   "metadata": {},
   "outputs": [
    {
     "data": {
      "text/plain": [
       "array([[1., 1., 1., 1., 1.],\n",
       "       [1., 1., 1., 1., 1.],\n",
       "       [1., 1., 1., 1., 1.]])"
      ]
     },
     "execution_count": 8,
     "metadata": {},
     "output_type": "execute_result"
    }
   ],
   "source": [
    "#A 3*5 floating point array filled with ones\n",
    "np.ones((3,5), dtype=float)"
   ]
  },
  {
   "cell_type": "code",
   "execution_count": 43,
   "id": "25cf4b4c",
   "metadata": {},
   "outputs": [
    {
     "data": {
      "text/plain": [
       "array([[5.47, 5.47, 5.47, 5.47],\n",
       "       [5.47, 5.47, 5.47, 5.47]])"
      ]
     },
     "execution_count": 43,
     "metadata": {},
     "output_type": "execute_result"
    }
   ],
   "source": [
    "#An 2*4 array full of 5.47\n",
    "np.full((2,4),5.47)"
   ]
  },
  {
   "cell_type": "code",
   "execution_count": null,
   "id": "3d0d441a",
   "metadata": {},
   "outputs": [
    {
     "data": {
      "text/plain": [
       "array([ 0,  3,  6,  9, 12, 15, 18, 21, 24, 27, 30, 33])"
      ]
     },
     "execution_count": 14,
     "metadata": {},
     "output_type": "execute_result"
    }
   ],
   "source": [
    "#An array starting from 0, ending at 36 and stepping by 3\n",
    "np.arange(0,36,3)"
   ]
  },
  {
   "cell_type": "code",
   "execution_count": null,
   "id": "903ac881",
   "metadata": {},
   "outputs": [
    {
     "data": {
      "text/plain": [
       "array([ 0., 11., 22., 33., 44., 55., 66., 77., 88., 99.])"
      ]
     },
     "execution_count": 18,
     "metadata": {},
     "output_type": "execute_result"
    }
   ],
   "source": [
    "#An array of 10 values evenly spaces between 0 and 99\n",
    "np.linspace(0,99,10)"
   ]
  },
  {
   "cell_type": "code",
   "execution_count": 21,
   "id": "5aa41922",
   "metadata": {},
   "outputs": [
    {
     "data": {
      "text/plain": [
       "array([[0.02036939, 0.02225701, 0.97717782],\n",
       "       [0.95007946, 0.12202093, 0.01660882],\n",
       "       [0.78578281, 0.17528426, 0.03368418]])"
      ]
     },
     "execution_count": 21,
     "metadata": {},
     "output_type": "execute_result"
    }
   ],
   "source": [
    "np.random.random((3,3))"
   ]
  },
  {
   "cell_type": "code",
   "execution_count": null,
   "id": "f9e84d87",
   "metadata": {},
   "outputs": [
    {
     "data": {
      "text/plain": [
       "array([[ 1.1462567 , -1.32080933,  1.20349934],\n",
       "       [ 0.11156414, -0.23693096, -0.55906211],\n",
       "       [ 0.3230434 ,  1.28813416,  0.97692857]])"
      ]
     },
     "execution_count": 29,
     "metadata": {},
     "output_type": "execute_result"
    }
   ],
   "source": [
    "#An array with mean 0 and standard deviation 1\n",
    "np.random.normal(0,1,(3,3))"
   ]
  },
  {
   "cell_type": "code",
   "execution_count": 31,
   "id": "d150d3fc",
   "metadata": {},
   "outputs": [
    {
     "data": {
      "text/plain": [
       "array([[6, 6, 5],\n",
       "       [6, 3, 6],\n",
       "       [2, 2, 0]], dtype=int32)"
      ]
     },
     "execution_count": 31,
     "metadata": {},
     "output_type": "execute_result"
    }
   ],
   "source": [
    "#An array of randon 3*3 matrix from 0 to 7\n",
    "np.random.randint(0,7,(3,3))"
   ]
  },
  {
   "cell_type": "code",
   "execution_count": 35,
   "id": "4837b156",
   "metadata": {},
   "outputs": [
    {
     "data": {
      "text/plain": [
       "array([[1., 0., 0., 0.],\n",
       "       [0., 1., 0., 0.],\n",
       "       [0., 0., 1., 0.],\n",
       "       [0., 0., 0., 1.]])"
      ]
     },
     "execution_count": 35,
     "metadata": {},
     "output_type": "execute_result"
    }
   ],
   "source": [
    "#A 3*3 identity matrix\n",
    "np.eye(4)"
   ]
  },
  {
   "cell_type": "code",
   "execution_count": 37,
   "id": "150e8c6d",
   "metadata": {},
   "outputs": [
    {
     "data": {
      "text/plain": [
       "array([5.43230922e-312, 7.29112202e-304])"
      ]
     },
     "execution_count": 37,
     "metadata": {},
     "output_type": "execute_result"
    }
   ],
   "source": [
    "np.empty(2)"
   ]
  },
  {
   "cell_type": "code",
   "execution_count": 61,
   "id": "76443ca2",
   "metadata": {},
   "outputs": [
    {
     "name": "stdout",
     "output_type": "stream",
     "text": [
      "[[3 5 2]\n",
      " [4 7 6]]\n"
     ]
    }
   ],
   "source": [
    "np.random.seed(0)\n",
    "a1=np.random.randint(10,size=6)\n",
    "a2=np.random.randint(10, size=(2,3))\n",
    "a3=np.random.randint(10,size=(2,4,2))\n",
    "print(a2)"
   ]
  },
  {
   "cell_type": "code",
   "execution_count": 66,
   "id": "a8a5d6ed",
   "metadata": {},
   "outputs": [
    {
     "name": "stdout",
     "output_type": "stream",
     "text": [
      "a2.ndim: 2\n",
      "a2 shape: (2, 3)\n",
      "a2 size: 6\n",
      "a2 dtype: int32\n",
      "a2 item size: 4\n",
      "a2 nbytes: 24\n"
     ]
    }
   ],
   "source": [
    "print(\"a2.ndim:\", a2.ndim)\n",
    "print(\"a2 shape:\", a2.shape)\n",
    "print(\"a2 size:\", a2.size)\n",
    "print(\"a2 dtype:\", a2.dtype)\n",
    "print(\"a2 item size:\", a2.itemsize)\n",
    "print(\"a2 nbytes:\", a2.nbytes)"
   ]
  },
  {
   "cell_type": "markdown",
   "id": "cfbed937",
   "metadata": {},
   "source": [
    "Array Indexing"
   ]
  },
  {
   "cell_type": "code",
   "execution_count": 3,
   "id": "3acc954f",
   "metadata": {},
   "outputs": [
    {
     "name": "stdout",
     "output_type": "stream",
     "text": [
      "2\n",
      "9\n",
      "1\n"
     ]
    }
   ],
   "source": [
    "x1 = np.array([2,3,4,5,7,6,1,9])\n",
    "print(x1[0])\n",
    "print(x1[-1])\n",
    "print(x1[-2])"
   ]
  },
  {
   "cell_type": "code",
   "execution_count": 12,
   "id": "90e861b8",
   "metadata": {},
   "outputs": [
    {
     "name": "stdout",
     "output_type": "stream",
     "text": [
      "[[5 3 4]\n",
      " [0 1 3]]\n",
      "5\n",
      "0\n",
      "3\n"
     ]
    }
   ],
   "source": [
    "#indexing in multidimesionsl arrays\n",
    "np.random.seed(1)\n",
    "x2 = np.random.randint(0,7,(2,3))\n",
    "print(x2)\n",
    "print(x2[0,0])\n",
    "print(x2[1,0])\n",
    "print(x2[1,-1])"
   ]
  },
  {
   "cell_type": "code",
   "execution_count": 77,
   "id": "93287f3f",
   "metadata": {},
   "outputs": [
    {
     "name": "stdout",
     "output_type": "stream",
     "text": [
      "[3 0 3 3 7 9]\n"
     ]
    }
   ],
   "source": [
    "np.random.seed(0)\n",
    "x1 = np.random.randint(10, size=6)\n",
    "x1[0] = 3.197\n",
    "print(x1)"
   ]
  },
  {
   "cell_type": "markdown",
   "id": "5d0efcd1",
   "metadata": {},
   "source": [
    "Array Slicing and accessing Subarrays"
   ]
  },
  {
   "cell_type": "code",
   "execution_count": 22,
   "id": "526ea639",
   "metadata": {},
   "outputs": [
    {
     "name": "stdout",
     "output_type": "stream",
     "text": [
      "[10 11 12 13 14 15 16 17 18 19]\n"
     ]
    }
   ],
   "source": [
    "a1 = np.arange(10,20)\n",
    "print(a1)"
   ]
  },
  {
   "cell_type": "code",
   "execution_count": 30,
   "id": "d891618e",
   "metadata": {},
   "outputs": [
    {
     "name": "stdout",
     "output_type": "stream",
     "text": [
      "[10 11 12]\n",
      "[13 14 15 16 17 18 19]\n",
      "[13 14 15 16]\n",
      "[10 12 14 16 18]\n",
      "[19 18 17 16 15 14 13 12 11 10]\n",
      "[11 13 15 17 19]\n",
      "[15 14 13 12 11 10]\n"
     ]
    }
   ],
   "source": [
    "print(a1[:3]) #first 3 elements\n",
    "print(a1[3:]) #elements after the third poition\n",
    "print(a1[3:7]) #middle sub array\n",
    "print(a1[::2]) #every other element\n",
    "print(a1[::-1])#reverse oder of the elements\n",
    "print(a1[1::2]) #every other element from the 1st index\n",
    "print(a1[5::-1]) #reversed from index 3"
   ]
  },
  {
   "cell_type": "code",
   "execution_count": 34,
   "id": "a9b0ea00",
   "metadata": {},
   "outputs": [
    {
     "name": "stdout",
     "output_type": "stream",
     "text": [
      "[[14  7  2  5]\n",
      " [13  5  9 11]\n",
      " [ 5  7  4  6]]\n"
     ]
    }
   ],
   "source": [
    "np.random.seed(0)\n",
    "a2 = np.random.randint(2,16,(3,4))\n",
    "print(a2)"
   ]
  },
  {
   "cell_type": "code",
   "execution_count": null,
   "id": "288ec7e3",
   "metadata": {},
   "outputs": [
    {
     "name": "stdout",
     "output_type": "stream",
     "text": [
      "[[14  7  2]\n",
      " [13  5  9]]\n",
      "[[14  2]\n",
      " [13  9]\n",
      " [ 5  4]]\n",
      "[[ 6  4  7  5]\n",
      " [11  9  5 13]\n",
      " [ 5  2  7 14]]\n"
     ]
    }
   ],
   "source": [
    "print(a2[:2,:3]) #the first 2 rows and 3 columns\n",
    "print(a2[:3,::2]) #all rows and every other column\n",
    "print(a2[::-1,::-1]) #reverse order of both columns and rows"
   ]
  },
  {
   "cell_type": "code",
   "execution_count": null,
   "id": "6cf847d3",
   "metadata": {},
   "outputs": [],
   "source": []
  }
 ],
 "metadata": {
  "kernelspec": {
   "display_name": "stone",
   "language": "python",
   "name": "python3"
  },
  "language_info": {
   "codemirror_mode": {
    "name": "ipython",
    "version": 3
   },
   "file_extension": ".py",
   "mimetype": "text/x-python",
   "name": "python",
   "nbconvert_exporter": "python",
   "pygments_lexer": "ipython3",
   "version": "3.13.5"
  }
 },
 "nbformat": 4,
 "nbformat_minor": 5
}
