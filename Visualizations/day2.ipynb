{
 "cells": [
  {
   "cell_type": "markdown",
   "id": "4adbb774",
   "metadata": {},
   "source": [
    "Visualizations:\n",
    "Help with data intepretation.\n",
    "\n",
    "\n",
    "Bar (stacked) chart - compare categories, highligh difference in magnitude, show rankings\n",
    "Line chart - trend over time,seasonality,cyclic patterns(fluctuations)\n",
    "Pie chart/Donut charts - proportions(parts of a whole)\n",
    "Histogram - distribution of continuois variable(s), Outliers as a factor of spread, measures of central tendencies\n",
    "Scatter Plot\n",
    "Box Plot\n",
    "KDE Plots\n",
    "Heat maps\n",
    "Tree maps\n",
    "Word clouds\n",
    "Violin Plots\n",
    "\n",
    "\n"
   ]
  },
  {
   "cell_type": "code",
   "execution_count": 1,
   "id": "1608251c",
   "metadata": {},
   "outputs": [],
   "source": [
    "import pandas as pd"
   ]
  },
  {
   "cell_type": "code",
   "execution_count": 2,
   "id": "229418a1",
   "metadata": {},
   "outputs": [],
   "source": [
    "df = pd.read_csv(r\"C:\\Users\\Awendi Joy\\OneDrive\\Documents\\Py Data\\Visualizations\\commodity_futures.csv\")"
   ]
  },
  {
   "cell_type": "code",
   "execution_count": 3,
   "id": "e5ab0999",
   "metadata": {},
   "outputs": [
    {
     "data": {
      "text/html": [
       "<div>\n",
       "<style scoped>\n",
       "    .dataframe tbody tr th:only-of-type {\n",
       "        vertical-align: middle;\n",
       "    }\n",
       "\n",
       "    .dataframe tbody tr th {\n",
       "        vertical-align: top;\n",
       "    }\n",
       "\n",
       "    .dataframe thead th {\n",
       "        text-align: right;\n",
       "    }\n",
       "</style>\n",
       "<table border=\"1\" class=\"dataframe\">\n",
       "  <thead>\n",
       "    <tr style=\"text-align: right;\">\n",
       "      <th></th>\n",
       "      <th>Date</th>\n",
       "      <th>NATURAL GAS</th>\n",
       "      <th>GOLD</th>\n",
       "      <th>WTI CRUDE</th>\n",
       "      <th>BRENT CRUDE</th>\n",
       "      <th>SOYBEANS</th>\n",
       "      <th>CORN</th>\n",
       "      <th>COPPER</th>\n",
       "      <th>SILVER</th>\n",
       "      <th>LOW SULPHUR GAS OIL</th>\n",
       "      <th>...</th>\n",
       "      <th>ZINC</th>\n",
       "      <th>ULS DIESEL</th>\n",
       "      <th>NICKEL</th>\n",
       "      <th>WHEAT</th>\n",
       "      <th>SUGAR</th>\n",
       "      <th>GASOLINE</th>\n",
       "      <th>COFFEE</th>\n",
       "      <th>LEAN HOGS</th>\n",
       "      <th>HRW WHEAT</th>\n",
       "      <th>COTTON</th>\n",
       "    </tr>\n",
       "  </thead>\n",
       "  <tbody>\n",
       "    <tr>\n",
       "      <th>0</th>\n",
       "      <td>2000-01-03</td>\n",
       "      <td>NaN</td>\n",
       "      <td>NaN</td>\n",
       "      <td>NaN</td>\n",
       "      <td>NaN</td>\n",
       "      <td>456.50</td>\n",
       "      <td>200.75</td>\n",
       "      <td>NaN</td>\n",
       "      <td>NaN</td>\n",
       "      <td>NaN</td>\n",
       "      <td>...</td>\n",
       "      <td>1237.50</td>\n",
       "      <td>NaN</td>\n",
       "      <td>8446.0</td>\n",
       "      <td>247.50</td>\n",
       "      <td>6.10</td>\n",
       "      <td>NaN</td>\n",
       "      <td>116.50</td>\n",
       "      <td>55.975</td>\n",
       "      <td>274.25</td>\n",
       "      <td>51.07</td>\n",
       "    </tr>\n",
       "    <tr>\n",
       "      <th>1</th>\n",
       "      <td>2000-01-04</td>\n",
       "      <td>2.176</td>\n",
       "      <td>283.7</td>\n",
       "      <td>25.55</td>\n",
       "      <td>24.39</td>\n",
       "      <td>464.25</td>\n",
       "      <td>203.00</td>\n",
       "      <td>0.8480</td>\n",
       "      <td>5.375</td>\n",
       "      <td>213.50</td>\n",
       "      <td>...</td>\n",
       "      <td>1215.00</td>\n",
       "      <td>67.78</td>\n",
       "      <td>8314.0</td>\n",
       "      <td>247.25</td>\n",
       "      <td>5.77</td>\n",
       "      <td>NaN</td>\n",
       "      <td>116.25</td>\n",
       "      <td>55.625</td>\n",
       "      <td>274.00</td>\n",
       "      <td>50.73</td>\n",
       "    </tr>\n",
       "    <tr>\n",
       "      <th>2</th>\n",
       "      <td>2000-01-05</td>\n",
       "      <td>2.168</td>\n",
       "      <td>282.1</td>\n",
       "      <td>24.91</td>\n",
       "      <td>23.73</td>\n",
       "      <td>469.25</td>\n",
       "      <td>203.00</td>\n",
       "      <td>0.8565</td>\n",
       "      <td>5.210</td>\n",
       "      <td>213.00</td>\n",
       "      <td>...</td>\n",
       "      <td>1209.25</td>\n",
       "      <td>66.55</td>\n",
       "      <td>8307.0</td>\n",
       "      <td>249.75</td>\n",
       "      <td>5.81</td>\n",
       "      <td>NaN</td>\n",
       "      <td>118.60</td>\n",
       "      <td>55.075</td>\n",
       "      <td>276.25</td>\n",
       "      <td>51.56</td>\n",
       "    </tr>\n",
       "    <tr>\n",
       "      <th>3</th>\n",
       "      <td>2000-01-06</td>\n",
       "      <td>2.196</td>\n",
       "      <td>282.4</td>\n",
       "      <td>24.78</td>\n",
       "      <td>23.62</td>\n",
       "      <td>468.00</td>\n",
       "      <td>203.75</td>\n",
       "      <td>0.8530</td>\n",
       "      <td>5.167</td>\n",
       "      <td>211.25</td>\n",
       "      <td>...</td>\n",
       "      <td>1212.00</td>\n",
       "      <td>66.28</td>\n",
       "      <td>8252.0</td>\n",
       "      <td>248.50</td>\n",
       "      <td>5.77</td>\n",
       "      <td>NaN</td>\n",
       "      <td>116.85</td>\n",
       "      <td>55.175</td>\n",
       "      <td>275.00</td>\n",
       "      <td>52.08</td>\n",
       "    </tr>\n",
       "    <tr>\n",
       "      <th>4</th>\n",
       "      <td>2000-01-07</td>\n",
       "      <td>2.173</td>\n",
       "      <td>282.9</td>\n",
       "      <td>24.22</td>\n",
       "      <td>23.09</td>\n",
       "      <td>471.50</td>\n",
       "      <td>207.00</td>\n",
       "      <td>0.8540</td>\n",
       "      <td>5.195</td>\n",
       "      <td>205.25</td>\n",
       "      <td>...</td>\n",
       "      <td>1209.25</td>\n",
       "      <td>64.75</td>\n",
       "      <td>8174.0</td>\n",
       "      <td>251.75</td>\n",
       "      <td>5.84</td>\n",
       "      <td>NaN</td>\n",
       "      <td>114.15</td>\n",
       "      <td>55.625</td>\n",
       "      <td>277.75</td>\n",
       "      <td>53.96</td>\n",
       "    </tr>\n",
       "  </tbody>\n",
       "</table>\n",
       "<p>5 rows × 24 columns</p>\n",
       "</div>"
      ],
      "text/plain": [
       "         Date  NATURAL GAS   GOLD  WTI CRUDE  BRENT CRUDE  SOYBEANS    CORN  \\\n",
       "0  2000-01-03          NaN    NaN        NaN          NaN    456.50  200.75   \n",
       "1  2000-01-04        2.176  283.7      25.55        24.39    464.25  203.00   \n",
       "2  2000-01-05        2.168  282.1      24.91        23.73    469.25  203.00   \n",
       "3  2000-01-06        2.196  282.4      24.78        23.62    468.00  203.75   \n",
       "4  2000-01-07        2.173  282.9      24.22        23.09    471.50  207.00   \n",
       "\n",
       "   COPPER  SILVER  LOW SULPHUR GAS OIL  ...     ZINC  ULS DIESEL  NICKEL  \\\n",
       "0     NaN     NaN                  NaN  ...  1237.50         NaN  8446.0   \n",
       "1  0.8480   5.375               213.50  ...  1215.00       67.78  8314.0   \n",
       "2  0.8565   5.210               213.00  ...  1209.25       66.55  8307.0   \n",
       "3  0.8530   5.167               211.25  ...  1212.00       66.28  8252.0   \n",
       "4  0.8540   5.195               205.25  ...  1209.25       64.75  8174.0   \n",
       "\n",
       "    WHEAT  SUGAR  GASOLINE  COFFEE  LEAN HOGS  HRW WHEAT  COTTON  \n",
       "0  247.50   6.10       NaN  116.50     55.975     274.25   51.07  \n",
       "1  247.25   5.77       NaN  116.25     55.625     274.00   50.73  \n",
       "2  249.75   5.81       NaN  118.60     55.075     276.25   51.56  \n",
       "3  248.50   5.77       NaN  116.85     55.175     275.00   52.08  \n",
       "4  251.75   5.84       NaN  114.15     55.625     277.75   53.96  \n",
       "\n",
       "[5 rows x 24 columns]"
      ]
     },
     "execution_count": 3,
     "metadata": {},
     "output_type": "execute_result"
    }
   ],
   "source": [
    "df.head()"
   ]
  },
  {
   "cell_type": "code",
   "execution_count": 5,
   "id": "cd91e1bc",
   "metadata": {},
   "outputs": [],
   "source": [
    "import matplotlib.pyplot as plt"
   ]
  },
  {
   "cell_type": "code",
   "execution_count": 6,
   "id": "9aeed454",
   "metadata": {},
   "outputs": [],
   "source": [
    "import matplotlib"
   ]
  },
  {
   "cell_type": "code",
   "execution_count": 8,
   "id": "6d44da60",
   "metadata": {},
   "outputs": [
    {
     "data": {
      "text/plain": [
       "'3.10.6'"
      ]
     },
     "execution_count": 8,
     "metadata": {},
     "output_type": "execute_result"
    }
   ],
   "source": [
    "matplotlib.__version__"
   ]
  },
  {
   "cell_type": "code",
   "execution_count": 10,
   "id": "cd2888bd",
   "metadata": {},
   "outputs": [],
   "source": [
    "Date = pd.to_datetime(df['Date'])"
   ]
  },
  {
   "cell_type": "code",
   "execution_count": 9,
   "id": "f6940181",
   "metadata": {},
   "outputs": [
    {
     "data": {
      "text/plain": [
       "<Figure size 800x500 with 0 Axes>"
      ]
     },
     "metadata": {},
     "output_type": "display_data"
    }
   ],
   "source": [
    "fig =plt.figure(figsize=(8,5))"
   ]
  },
  {
   "cell_type": "code",
   "execution_count": 11,
   "id": "6717fb04",
   "metadata": {},
   "outputs": [
    {
     "data": {
      "text/plain": [
       "dtype('<M8[ns]')"
      ]
     },
     "execution_count": 11,
     "metadata": {},
     "output_type": "execute_result"
    }
   ],
   "source": [
    "Date.dtype"
   ]
  },
  {
   "cell_type": "code",
   "execution_count": null,
   "id": "488c8055",
   "metadata": {},
   "outputs": [
    {
     "data": {
      "text/plain": [
       "<Figure size 1000x600 with 0 Axes>"
      ]
     },
     "execution_count": 12,
     "metadata": {},
     "output_type": "execute_result"
    },
    {
     "data": {
      "text/plain": [
       "<Figure size 1000x600 with 0 Axes>"
      ]
     },
     "metadata": {},
     "output_type": "display_data"
    }
   ],
   "source": [
    "plt.figure(figsize=(10,6))\n",
    "plt.plot(df['Date'], df['Gold'])\n",
    "plt.show()"
   ]
  },
  {
   "cell_type": "code",
   "execution_count": null,
   "id": "72ff5f29",
   "metadata": {},
   "outputs": [],
   "source": []
  }
 ],
 "metadata": {
  "kernelspec": {
   "display_name": "stone",
   "language": "python",
   "name": "python3"
  },
  "language_info": {
   "codemirror_mode": {
    "name": "ipython",
    "version": 3
   },
   "file_extension": ".py",
   "mimetype": "text/x-python",
   "name": "python",
   "nbconvert_exporter": "python",
   "pygments_lexer": "ipython3",
   "version": "3.13.5"
  }
 },
 "nbformat": 4,
 "nbformat_minor": 5
}
