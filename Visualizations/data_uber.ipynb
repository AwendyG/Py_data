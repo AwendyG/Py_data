{
 "cells": [
  {
   "cell_type": "markdown",
   "id": "df0ba082",
   "metadata": {},
   "source": [
    "Data Cleaning\n",
    "- Date /Time ; conversion\n",
    "- Extract, componnst from the time, (weeekday/ weekend fro the date)"
   ]
  },
  {
   "cell_type": "markdown",
   "id": "8a686bf9",
   "metadata": {},
   "source": [
    "Univariate\n",
    "* Introduce the audience to the dataset; the number of bookings, the span of the data, location of the data, give context; find the demography of the locations. What's the median income (who is the customer here)\n",
    "* Introduce problem statements; What a Rating is, what it spans from; we'll be looking into the ratings with the aim to understand what the contributors are for ratings\n",
    "\n",
    "[Do we explore those who did not give a rating?]\n",
    "\n",
    "Understanding the ratings\n",
    "- What does the rating distribution look like? Customer Driver [do not forget the .describe]\n",
    "- Get a count, mean/median, least & hghest of th number of ratings\n",
    "- Plots ; have summary statistics, KDE PLOTS, HOSTOGTRAM\n",
    "- Creating a sub_\n",
    "\n"
   ]
  },
  {
   "cell_type": "markdown",
   "id": "afb24353",
   "metadata": {},
   "source": [
    "Bivariate\n",
    "\n",
    "Time of day vs rating\n",
    "- feature engineering - come up with a column of maybe day or night\n",
    "- Time column ; group by hour , getting the mean and count rating per hour\n",
    "- Line chart or bar chart showing the hour fro the time against the mean rating\n",
    "- Heat map; weekday against the average rating(seaborn for heat map) \n",
    "- What hours receive more number of ratings? We receive most ratings at x hour"
   ]
  },
  {
   "cell_type": "markdown",
   "id": "555e0396",
   "metadata": {},
   "source": [
    "Locations vs ratings\n",
    "\n",
    "- Mention the unique number of locations for pick up an drop off(from the ratings that we have they are concentrated within x and y)\n",
    "(Python graph gallery; hexbin, chloropleth)\n",
    "- Geometry column correspnding to the location provided Chloropleth\n",
    "- Bar plot (horizontal); ranking the highest (10)\n",
    "- Add a line/marker within the bar plotfor that average rating"
   ]
  },
  {
   "cell_type": "markdown",
   "id": "aa62cb63",
   "metadata": {},
   "source": [
    "Payment method vs rating\n",
    "- groupby the payment method; mean and count of the ratings\n",
    "- plot mean and count side by side"
   ]
  },
  {
   "cell_type": "markdown",
   "id": "cd630ea3",
   "metadata": {},
   "source": [
    "Incomplete / complete rides vs the rating\n",
    "\n",
    "group by, mean\n",
    "bar plot(horizontal)"
   ]
  },
  {
   "cell_type": "markdown",
   "id": "e339d445",
   "metadata": {},
   "source": [
    "VTAT/CTAT vs rating (seperately)\n",
    "are longer rating times associated with ratings?\n",
    "pd.cut (continous variables into bins, polt the average f the bins )"
   ]
  },
  {
   "cell_type": "markdown",
   "id": "941a2ebf",
   "metadata": {},
   "source": [
    "multivariate"
   ]
  },
  {
   "cell_type": "markdown",
   "id": "463b4c5d",
   "metadata": {},
   "source": [
    "Ride distance vs rating \n",
    "- scatterplot\n",
    "- hue by vehicle type"
   ]
  }
 ],
 "metadata": {
  "language_info": {
   "name": "python"
  }
 },
 "nbformat": 4,
 "nbformat_minor": 5
}
